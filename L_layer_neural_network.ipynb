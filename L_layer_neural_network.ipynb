{
  "nbformat": 4,
  "nbformat_minor": 0,
  "metadata": {
    "colab": {
      "name": "L-layer_neural_network.ipynb",
      "provenance": [],
      "collapsed_sections": [],
      "authorship_tag": "ABX9TyNItMNMvzCa5yvF95PWawGa",
      "include_colab_link": true
    },
    "kernelspec": {
      "name": "python3",
      "display_name": "Python 3"
    },
    "language_info": {
      "name": "python"
    }
  },
  "cells": [
    {
      "cell_type": "markdown",
      "metadata": {
        "id": "view-in-github",
        "colab_type": "text"
      },
      "source": [
        "<a href=\"https://colab.research.google.com/github/deepanshu-j/mnist_number_prediction/blob/main/L_layer_neural_network.ipynb\" target=\"_parent\"><img src=\"https://colab.research.google.com/assets/colab-badge.svg\" alt=\"Open In Colab\"/></a>"
      ]
    },
    {
      "cell_type": "markdown",
      "metadata": {
        "id": "ccRxWXzvKXcG"
      },
      "source": [
        "# L-Layer Deep Fully Connected Neural Network\n",
        "### Digit Prediction - *MNIST Dataset*\n",
        "#### *From Scratch Using Numpy*\n",
        "##### (Using Batch Gradient Descent)\n",
        "*   Training the Model on Training set\n",
        "*   Getting the Accuracy on the Test set\n",
        "*   Tuning the Hyperparameters( learning_rate and alpha0 in this case) \n",
        "*   Getting the Accuracy on the Test set again \n",
        "*   Comparing the Accuracy for different Learning rates \n",
        "\n",
        "\n",
        "\n",
        "\n",
        "\n"
      ]
    },
    {
      "cell_type": "code",
      "metadata": {
        "id": "YWpxBTF_GJmD"
      },
      "source": [
        "# Load Libraries\n",
        "import numpy as np\n",
        "from sklearn.datasets import load_digits\n",
        "from sklearn.datasets import load_iris\n",
        "from sklearn.model_selection import train_test_split\n",
        "import pandas as pd\n",
        "import matplotlib.pyplot as plt"
      ],
      "execution_count": null,
      "outputs": []
    },
    {
      "cell_type": "markdown",
      "metadata": {
        "id": "s80dv9QeM-jL"
      },
      "source": [
        "### Defining the Model with single neuron in the Output Layer\n",
        "And Testing them on dumb input to verify\n",
        "\n",
        "Input follows \n",
        "f(x,y,z) = x\n",
        "\n",
        "3 input variables, single output"
      ]
    },
    {
      "cell_type": "code",
      "metadata": {
        "colab": {
          "base_uri": "https://localhost:8080/"
        },
        "id": "VcAD00sAGUPu",
        "outputId": "96def787-0849-41a2-9191-d3d4dbfb3815"
      },
      "source": [
        "training_inputs = np.array(\n",
        "    [[1,1,0],\n",
        "     [1,0,1],\n",
        "     [0,1,1],\n",
        "     [0,1,0]])\n",
        "\n",
        "\n",
        "training_inputs = training_inputs.T\n",
        "\n",
        "print(training_inputs.shape)\n",
        "training_outputs = np.array([[1,1,0,0]])\n",
        "print(training_outputs.shape)\n",
        "\n",
        "\n",
        "# Training input shape = (n_x, m) n_x=3 , m=4   => (3,4)\n",
        "# Training outputs shape = (1, m)    \n",
        "\n",
        "np.random.seed(1)\n",
        "\n",
        "# Helper Functions\n",
        "def sigmoid(x):\n",
        "  return 1/ (1+np.exp(-x))\n",
        "\n",
        "def relu(x):\n",
        "  # return np.maximum(x, 0)\n",
        "  return np.tanh(x)\n",
        "\n",
        "# DEFINING PARAMTERS weights and bais and n_x, n_h, n_y\n",
        "\n",
        "X = training_inputs\n",
        "Y = training_outputs\n",
        "\n",
        "n_x, n_y = X.shape[0], Y.shape[0]   \n",
        "m = X.shape[1]\n",
        "\n",
        "layer_dims = [n_x, 5, 4, n_y]\n",
        "L = len(layer_dims) # It does not represents L as its value is L+1 where L is L- deep nn\n",
        "print('L: ',L)\n",
        "# n_h = L-1\n",
        "\n",
        "learning_rate = 0.5 \n",
        "num_iterations = 5000\n",
        "\n",
        "# weights matrix \n",
        "# shape (n_h, n_x)\n",
        "# W1 = np.random.rand(n_h, n_x) * 0.01\n",
        "# b1 = np.zeros(shape=(n_h, 1)) \n",
        "# W2 = np.random.rand(n_y, n_h) * 0.01\n",
        "# b2 = np.zeros(shape=(n_y, 1)) \n",
        "\n",
        "parameters = {}\n",
        "\n",
        "for l in range(1,L):\n",
        "  parameters[\"W\"+str(l)] = np.random.randn(layer_dims[l], layer_dims[l-1])\n",
        "  parameters[\"b\"+str(l)] = np.zeros(shape=(layer_dims[l],1))\n",
        "\n",
        "# print('parameters:\\n',parameters)\n",
        "\n",
        "costs = [] # We will this array for ploting cost fn\n",
        "\n",
        "\n",
        "# Batch Gradient Descent \n",
        "for num_iteration in range(num_iterations):\n",
        "  \n",
        "  # Forward Prop\n",
        "  # Z1 = np.dot(W1, X) + b1  # X = A0  shape = n_h,n_x . n_x,m => (n_h,m)\n",
        "  # A1 = np.tanh(Z1)\n",
        "  # Z2 = np.dot(W2, A1) + b2\n",
        "  # A2 = sigmoid(Z2)\n",
        "  cache = {}\n",
        "  cache['A0'] = X\n",
        "\n",
        "  for l in range(1,L): # 1->L-2  relu\n",
        "    W_l = parameters['W'+str(l)]\n",
        "    b_l = parameters['b'+str(l)]\n",
        "    A_prev = X if l==1 else cache['A'+str(l-1)]\n",
        "    # if l==1:\n",
        "    #   A_prev = X\n",
        "    # else:\n",
        "    #   A_prev = cache['A'+str(l-1)]\n",
        "\n",
        "    Z_l = np.dot(W_l, A_prev) + b_l \n",
        "\n",
        "    A_l = sigmoid(Z_l) if l==L-1 else relu(Z_l)\n",
        "\n",
        "    cache['Z'+str(l)] = Z_l\n",
        "    cache['A'+str(l)] = A_l \n",
        "  # Store these activations for later use\n",
        "  # cache = {\n",
        "  #     \"Z1\": Z1,\n",
        "  #     \"A1\": A1,\n",
        "  #     \"Z2\": Z2,\n",
        "  #     \"A2\": A2\n",
        "  # }\n",
        "  # print('cache:\\n',cache)\n",
        "  \n",
        "  # Compute Cost\n",
        "  cost = (-1/m) * np.sum( np.multiply(Y, np.log( cache['A'+str(L-1)] )) + np.multiply(1 - Y, np.log(1 -  cache['A'+str(L-1)] )) )\n",
        "\n",
        "  # Backward Prop \n",
        "  \n",
        "  # dZ2 = A2 - Y\n",
        "  # assert(dZ2.shape == (n_y,m))\n",
        "  # dW2 = (1/m) * np.dot(dZ2,A1.T)\n",
        "  # # n_y,m . m,n_h  => n_y,n_h\n",
        "\n",
        "  # db2 = (1/m) * np.sum(dZ2, axis=1, keepdims=True) # (n_y,1)\n",
        "\n",
        "  # dA1 = np.dot(W2.T,dZ2)   # n_h,n_y . n_y,m => n_h,m \n",
        "  # assert(dA1.shape == (n_h,m))\n",
        "  # dZ1 = dA1 * (1- np.power(A1, 2))\n",
        "  # assert(dZ1.shape==(n_h,m))\n",
        "  # dW1 = (1/m) * np.dot(dZ1,X.T) # n_h,m  . m,n_x\n",
        "  # assert(dW1.shape==(n_h,n_x))\n",
        "\n",
        "  # db1 = (1/m) * np.sum(dZ1, axis=1, keepdims=True)  #(n_h,1)\n",
        "\n",
        "  grads = {}\n",
        "\n",
        "  for l in range(L-1,0,-1):\n",
        "    # print('on: ',l, \"th layer\")\n",
        "    if l==L-1: \n",
        "      # print(l,' sigmoid')\n",
        "      dZ_l = cache['A'+str(l)] - Y\n",
        "      dW_l = (1/m) * np.dot(dZ_l, cache['A'+str(l-1)].T)\n",
        "      db_l = (1/m) * np.sum(dZ_l, axis=1, keepdims=True) # (n_y,1)\n",
        "      grads['dZ'+str(l)] = dZ_l\n",
        "      grads['dW'+str(l)] = dW_l\n",
        "      grads['db'+str(l)] = db_l\n",
        "    else:\n",
        "      # print(l,' relu')\n",
        "      dA_l = np.dot(parameters['W'+str(l+1)].T,grads['dZ'+str(l+1)])\n",
        "      dZ_l = dA_l * (1- np.power(cache['A'+str(l)], 2))  ## ReLU Derivative Here ##\n",
        "      dW_l = (1/m) * np.dot(dZ_l,cache['A'+str(l-1)].T) # n_h,m  . m,n_x\n",
        "      db_l = (1/m) * np.sum(dZ_l, axis=1, keepdims=True)\n",
        "      grads['dA'+str(l)] = dA_l\n",
        "      grads['dZ'+str(l)] = dZ_l\n",
        "      grads['dW'+str(l)] = dW_l\n",
        "      grads['db'+str(l)] = db_l\n",
        "  \n",
        "  # print('grads:\\n', grads)\n",
        "#   # store gradients \n",
        "#   grads = {\"dW1\": dW1,\n",
        "#            \"db1\": db1,\n",
        "#            \"dW2\": dW2,\n",
        "#            \"db2\": db2}\n",
        "\n",
        "  # Gradient Descent\n",
        "  # W1 = W1 - learning_rate * dW1\n",
        "  # b1 = b1 - learning_rate * db1\n",
        "  # W2 = W2 - learning_rate * dW2\n",
        "  # b2 = b2 - learning_rate * db2\n",
        "\n",
        "  for l in range(1,L):\n",
        "    # print('updating for: ', l, \"th layer\")\n",
        "    parameters['W'+str(l)] = parameters['W'+str(l)] - learning_rate * grads['dW'+str(l)]\n",
        "  if num_iteration%1000==0:\n",
        "    costs.append(cost)\n",
        "    print('Cost after {} iterations: {}'.format(num_iteration,cost))\n",
        "\n",
        "# ***********Model End Here*************#\n",
        "\n",
        "# Helpers \n",
        "def beautify(x):\n",
        "  return 1 if x > 0.5 else 0\n",
        "def predict(test_input):\n",
        "  # Forward Prop\n",
        "  cache = {}\n",
        "  for l in range(1,L): # 1->L-2  relu\n",
        "    W_l = parameters['W'+str(l)]\n",
        "    b_l = parameters['b'+str(l)]\n",
        "    A_prev = test_input if l==1 else cache['A'+str(l-1)]\n",
        "    # if l==1:\n",
        "    #   A_prev = X\n",
        "    # else:\n",
        "    #   A_prev = cache['A'+str(l-1)]\n",
        "\n",
        "    Z_l = np.dot(W_l, A_prev) + b_l \n",
        "\n",
        "    A_l = sigmoid(Z_l) if l==L-1 else relu(Z_l)\n",
        "    cache['Z'+str(l)] = Z_l\n",
        "    cache['A'+str(l)] = A_l \n",
        "  print(cache['A'+str(L-1)])\n",
        "  result =  np.vectorize(beautify)(A_l)\n",
        "  print(result)\n",
        "  plt.plot(np.squeeze(costs))\n",
        "  plt.ylabel('cost')\n",
        "  plt.xlabel('iterations (per tens)')\n",
        "  plt.title(\"Learning rate =\" + str(learning_rate))\n",
        "  plt.show()\n"
      ],
      "execution_count": 123,
      "outputs": [
        {
          "output_type": "stream",
          "name": "stdout",
          "text": [
            "(3, 4)\n",
            "(1, 4)\n",
            "L:  4\n",
            "Cost after 0 iterations: 1.1061574510472774\n",
            "Cost after 1000 iterations: 0.0004902150977053695\n",
            "Cost after 2000 iterations: 0.00024614030234988303\n",
            "Cost after 3000 iterations: 0.00016443351136150586\n",
            "Cost after 4000 iterations: 0.00012348606796947143\n"
          ]
        }
      ]
    },
    {
      "cell_type": "code",
      "metadata": {
        "colab": {
          "base_uri": "https://localhost:8080/",
          "height": 347
        },
        "id": "c9Rl5k9YGZQu",
        "outputId": "4217b1e1-4ac6-4a5b-fde3-af64a7886317"
      },
      "source": [
        "test_input = np.array(\n",
        "    [[1,1,1],\n",
        "     [1,0,0],\n",
        "     [0,0,1],\n",
        "     [0,0,0],\n",
        "     [0,1,0],\n",
        "     [0,5,6],\n",
        "     [1,2,2],\n",
        "     [1,3,1]\n",
        "     ])\n",
        "predict(test_input.T)\n",
        "\n"
      ],
      "execution_count": 124,
      "outputs": [
        {
          "output_type": "stream",
          "name": "stdout",
          "text": [
            "[[9.99366879e-01 9.99929939e-01 1.19931510e-02 5.00000000e-01\n",
            "  1.01361821e-04 8.14962923e-05 4.80153870e-04 1.58908425e-04]]\n",
            "[[1 1 0 0 0 0 0 0]]\n"
          ]
        },
        {
          "output_type": "display_data",
          "data": {
            "image/png": "[encoded data removed]",
            "text/plain": [
              "<Figure size 432x288 with 1 Axes>"
            ]
          },
          "metadata": {
            "needs_background": "light"
          }
        }
      ]
    },
    {
      "cell_type": "markdown",
      "metadata": {
        "id": "xiEK4FJr0ZY1"
      },
      "source": [
        "# **Digit Prediction Model**"
      ]
    },
    {
      "cell_type": "markdown",
      "metadata": {
        "id": "iHOoHXqNOS1l"
      },
      "source": [
        "#### Understanding the Data (and it's shape) "
      ]
    },
    {
      "cell_type": "code",
      "metadata": {
        "colab": {
          "base_uri": "https://localhost:8080/"
        },
        "id": "IfVlx5NIHwDD",
        "outputId": "4a66f6ab-3d3d-4894-971f-61dc627e9bd4"
      },
      "source": [
        "# load Dataset\n",
        "mnist = load_digits()\n",
        "print(mnist.keys())\n",
        "#pd.DataFrame(mnist)\n",
        "\n",
        "print(type(mnist.data))\n",
        "print(type(mnist.images))\n"
      ],
      "execution_count": 126,
      "outputs": [
        {
          "output_type": "stream",
          "name": "stdout",
          "text": [
            "dict_keys(['data', 'target', 'target_names', 'images', 'DESCR'])\n",
            "<class 'numpy.ndarray'>\n",
            "<class 'numpy.ndarray'>\n"
          ]
        }
      ]
    },
    {
      "cell_type": "code",
      "metadata": {
        "colab": {
          "base_uri": "https://localhost:8080/"
        },
        "id": "aonEBwgdKKu1",
        "outputId": "fb9190d1-bcbe-443e-c3d8-94536f1b3b5b"
      },
      "source": [
        "print(pd.DataFrame(mnist.data).head())\n",
        "print(mnist.data.shape)\n",
        "print(mnist.target.shape)\n",
        "print(mnist.images.shape)"
      ],
      "execution_count": 127,
      "outputs": [
        {
          "output_type": "stream",
          "name": "stdout",
          "text": [
            "    0    1    2     3     4     5    6   ...   57   58    59    60    61   62   63\n",
            "0  0.0  0.0  5.0  13.0   9.0   1.0  0.0  ...  0.0  6.0  13.0  10.0   0.0  0.0  0.0\n",
            "1  0.0  0.0  0.0  12.0  13.0   5.0  0.0  ...  0.0  0.0  11.0  16.0  10.0  0.0  0.0\n",
            "2  0.0  0.0  0.0   4.0  15.0  12.0  0.0  ...  0.0  0.0   3.0  11.0  16.0  9.0  0.0\n",
            "3  0.0  0.0  7.0  15.0  13.0   1.0  0.0  ...  0.0  7.0  13.0  13.0   9.0  0.0  0.0\n",
            "4  0.0  0.0  0.0   1.0  11.0   0.0  0.0  ...  0.0  0.0   2.0  16.0   4.0  0.0  0.0\n",
            "\n",
            "[5 rows x 64 columns]\n",
            "(1797, 64)\n",
            "(1797,)\n",
            "(1797, 8, 8)\n"
          ]
        }
      ]
    },
    {
      "cell_type": "code",
      "metadata": {
        "colab": {
          "base_uri": "https://localhost:8080/",
          "height": 283
        },
        "id": "H0iMnxBoKMlL",
        "outputId": "3088e300-a502-4b2c-9431-1ad2428a17b3"
      },
      "source": [
        "mnist.data[0]\n",
        "\n",
        "plt.imshow(np.reshape(mnist.data[0],(8,8)))\n",
        "\n",
        "# plt.imshow(mnist.images[0])"
      ],
      "execution_count": 128,
      "outputs": [
        {
          "output_type": "execute_result",
          "data": {
            "text/plain": [
              "<matplotlib.image.AxesImage at 0x7f1a64721890>"
            ]
          },
          "metadata": {},
          "execution_count": 128
        },
        {
          "output_type": "display_data",
          "data": {
            "image/png": "[encoded data removed]",
            "text/plain": [
              "<Figure size 432x288 with 1 Axes>"
            ]
          },
          "metadata": {
            "needs_background": "light"
          }
        }
      ]
    },
    {
      "cell_type": "code",
      "metadata": {
        "colab": {
          "base_uri": "https://localhost:8080/"
        },
        "id": "bC_-VqTLKO8B",
        "outputId": "7f11b13a-a1a8-48fb-fbc1-ea198be12af4"
      },
      "source": [
        "X = mnist.data\n",
        "y = (mnist.target)\n",
        "X_train, X_test, y_train, y_test = train_test_split( X, y, test_size=0.33, random_state=42)\n",
        "\n",
        "print(X_train.shape)\n",
        "print(X_test.shape)\n",
        "print(y_train.shape)\n",
        "print(y_test.shape)\n",
        "print(type(y_train))\n",
        "print(y_train)\n",
        "# y_train = y_train.reshape(y_train.shape[0],1)\n",
        "# print(y_train)"
      ],
      "execution_count": 134,
      "outputs": [
        {
          "output_type": "stream",
          "name": "stdout",
          "text": [
            "(1203, 64)\n",
            "(594, 64)\n",
            "(1203,)\n",
            "(594,)\n",
            "<class 'numpy.ndarray'>\n",
            "[1 1 8 ... 2 7 1]\n"
          ]
        }
      ]
    },
    {
      "cell_type": "markdown",
      "metadata": {
        "id": "0Xo4R-YfOlKJ"
      },
      "source": [
        "# *Helper Functions*"
      ]
    },
    {
      "cell_type": "code",
      "metadata": {
        "id": "n57GSe6-OvR9"
      },
      "source": [
        "\n",
        "np.random.seed(1)\n",
        "\n",
        "def sigmoid(x):\n",
        "  return 1/ (1+np.exp(-x))\n",
        "\n",
        "def relu(x):\n",
        "  # return np.maximum(x, 0)\n",
        "  return np.tanh(x)\n",
        "\n",
        "def softmax(x):\n",
        "  e_x = np.exp(x - np.max(x))\n",
        "  return e_x / e_x.sum(axis=0)\n",
        "\n"
      ],
      "execution_count": 135,
      "outputs": []
    },
    {
      "cell_type": "markdown",
      "metadata": {
        "id": "ysgoUxlmQSPs"
      },
      "source": [
        "### Softmax Function "
      ]
    },
    {
      "cell_type": "code",
      "metadata": {
        "id": "TZWB4HAoQdcI"
      },
      "source": [
        "\n",
        "def softmax(x):\n",
        "  e_x = np.exp(x - np.max(x))\n",
        "  return e_x / e_x.sum(axis=0)"
      ],
      "execution_count": 136,
      "outputs": []
    },
    {
      "cell_type": "markdown",
      "metadata": {
        "id": "OishKmjqNz6M"
      },
      "source": [
        "## **One Hot Encoding for y_train matrix**\n"
      ]
    },
    {
      "cell_type": "code",
      "metadata": {
        "colab": {
          "base_uri": "https://localhost:8080/"
        },
        "id": "XEMywLs1NzZa",
        "outputId": "387c3425-9737-4f00-86aa-5c25a86668f3"
      },
      "source": [
        "from sklearn.preprocessing import OneHotEncoder\n",
        "\n",
        "integer_encoded = y_train\n",
        "\n",
        "onehot_encoder = OneHotEncoder(sparse=False)\n",
        "integer_encoded = integer_encoded.reshape(len(integer_encoded), 1)\n",
        "onehot_encoded = onehot_encoder.fit_transform(integer_encoded)\n",
        "print(onehot_encoded)\n",
        "print(onehot_encoded.shape)"
      ],
      "execution_count": 137,
      "outputs": [
        {
          "output_type": "stream",
          "name": "stdout",
          "text": [
            "[[0. 1. 0. ... 0. 0. 0.]\n",
            " [0. 1. 0. ... 0. 0. 0.]\n",
            " [0. 0. 0. ... 0. 1. 0.]\n",
            " ...\n",
            " [0. 0. 1. ... 0. 0. 0.]\n",
            " [0. 0. 0. ... 1. 0. 0.]\n",
            " [0. 1. 0. ... 0. 0. 0.]]\n",
            "(1203, 10)\n"
          ]
        }
      ]
    },
    {
      "cell_type": "markdown",
      "metadata": {
        "id": "r0_SoeFoO6m7"
      },
      "source": [
        "# Defining and Initializing Parameters and Hyperparameters\n",
        "*   weights\n",
        "*   bias\n",
        "*   learning_rate\n",
        "*   decay_rate and initial_learing_rate(lr0)\n",
        "*   L (Number of Layers in the NN)\n",
        "*   num_iterations - Number of Iterations\n",
        "*   layer_dims (Array defining Neurons in each hidden Layer)\n",
        "\n",
        "\n",
        "\n"
      ]
    },
    {
      "cell_type": "code",
      "metadata": {
        "colab": {
          "base_uri": "https://localhost:8080/"
        },
        "id": "VMqE96YnUKIl",
        "outputId": "fef44c0e-b2a8-4133-86a0-b0eea33cfd91"
      },
      "source": [
        "# training_inputs = np.array(\n",
        "#     [[1,1,0],\n",
        "#      [1,0,1],\n",
        "#      [0,1,1],\n",
        "#      [0,1,0]])\n",
        "\n",
        "\n",
        "# training_inputs = training_inputs.T\n",
        "training_inputs  = X_train.T\n",
        "\n",
        "print(training_inputs.shape)\n",
        "# training_outputs = np.array([[0,0,1,1],[1,1,0,0],[0,0,0,0]])\n",
        "training_outputs = onehot_encoded.T\n",
        "\n",
        "print(training_outputs.shape)\n",
        "\n",
        "# Training input shape = (n_x, m) n_x=3 , m=4   => (3,4)\n",
        "# Training outputs shape = (n_y, m)    \n",
        "\n",
        "# DEFINING PARAMTERS weights and bais and n_x, n_h, n_y\n",
        "\n",
        "X = training_inputs\n",
        "Y = training_outputs\n",
        "\n",
        "n_x, n_y = X.shape[0], Y.shape[0]   \n",
        "m = X.shape[1]\n",
        "\n",
        "layer_dims = [n_x, 5, 4, n_y]\n",
        "L = len(layer_dims) # It does not represents L as its value is L+1 where L is L- deep nn\n",
        "print('L: ',L)\n",
        "# n_h = L-1\n",
        "\n",
        "# Hyperparameters for Learning Decay \n",
        "learning_rate = 0.15 # Gave 90. % accuracy\n",
        "lr0 = 1\n",
        "decay_rate = 1\n",
        "\n",
        "num_iterations = 20000\n",
        "\n",
        "# weights matrix \n",
        "# shape (n_h, n_x)\n",
        "# W1 = np.random.rand(n_h, n_x) * 0.01\n",
        "# b1 = np.zeros(shape=(n_h, 1)) \n",
        "# W2 = np.random.rand(n_y, n_h) * 0.01\n",
        "# b2 = np.zeros(shape=(n_y, 1)) \n",
        "\n",
        "parameters = {}\n",
        "\n",
        "for l in range(1,L):\n",
        "  parameters[\"W\"+str(l)] = np.random.randn(layer_dims[l], layer_dims[l-1]) * 0.01\n",
        "  parameters[\"b\"+str(l)] = np.zeros(shape=(layer_dims[l],1))\n",
        "\n",
        "# print('parameters:\\n',parameters)\n",
        "\n",
        "costs = [] # We will use this List to plot cost fn\n"
      ],
      "execution_count": 180,
      "outputs": [
        {
          "output_type": "stream",
          "name": "stdout",
          "text": [
            "(64, 1203)\n",
            "(10, 1203)\n",
            "L:  4\n"
          ]
        }
      ]
    },
    {
      "cell_type": "markdown",
      "metadata": {
        "id": "9HW2UIwuUPHp"
      },
      "source": [
        "### Batch Gradient Descent "
      ]
    },
    {
      "cell_type": "markdown",
      "metadata": {
        "id": "LDAJPkakVrf3"
      },
      "source": [
        "UnModified Version"
      ]
    },
    {
      "cell_type": "code",
      "metadata": {
        "id": "RFBf2wGrKbEV"
      },
      "source": [
        "\n",
        "for num_iteration in range(num_iterations):\n",
        "  \n",
        "  # Forward Prop\n",
        "  # Z1 = np.dot(W1, X) + b1  # X = A0  shape = n_h,n_x . n_x,m => (n_h,m)\n",
        "  # A1 = np.tanh(Z1)\n",
        "  # Z2 = np.dot(W2, A1) + b2\n",
        "  # A2 = sigmoid(Z2)\n",
        "  cache = {}\n",
        "  cache['A0'] = X\n",
        "\n",
        "  for l in range(1,L): # 1->L-2  relu\n",
        "    W_l = parameters['W'+str(l)]\n",
        "    b_l = parameters['b'+str(l)]\n",
        "    A_prev = X if l==1 else cache['A'+str(l-1)]\n",
        "    # if l==1:\n",
        "    #   A_prev = X\n",
        "    # else:\n",
        "    #   A_prev = cache['A'+str(l-1)]\n",
        "\n",
        "    Z_l = np.dot(W_l, A_prev) + b_l \n",
        "\n",
        "    # A_l = sigmoid(Z_l) if l==L-1 else relu(Z_l)\n",
        "    A_l = softmax(Z_l) if l==L-1 else relu(Z_l)\n",
        "\n",
        "\n",
        "    cache['Z'+str(l)] = Z_l\n",
        "    cache['A'+str(l)] = A_l \n",
        "  # # Using softmax on the last activation layer\n",
        "  # cache['A' + str(L-1)] = softmax(cache['A' + str(L-1)])\n",
        "  # Store these activations for later use\n",
        "  # cache = {\n",
        "  #     \"Z1\": Z1,\n",
        "  #     \"A1\": A1,\n",
        "  #     \"Z2\": Z2,\n",
        "  #     \"A2\": A2\n",
        "  # }\n",
        "  # print('cache:\\n',cache)\n",
        "  \n",
        "  # Compute Cost\n",
        "  # cost = (-1/m) * np.sum( np.multiply(Y, np.log( cache['A'+str(L-1)] )) + np.multiply(1 - Y, np.log(1 -  cache['A'+str(L-1)] )) )\n",
        "  cost = (-1/m) * np.sum( np.sum (np.multiply(Y, np.log( cache['A'+str(L-1)] ))) ) \n",
        "\n",
        "  # Using softmax on the last activation layer\n",
        "  # cache['A' + str(L-1)] = softmax(cache['A' + str(L-1)])\n",
        "\n",
        "  # Backward Prop \n",
        "  \n",
        "  # dZ2 = A2 - Y\n",
        "  # assert(dZ2.shape == (n_y,m))\n",
        "  # dW2 = (1/m) * np.dot(dZ2,A1.T)\n",
        "  # # n_y,m . m,n_h  => n_y,n_h\n",
        "\n",
        "  # db2 = (1/m) * np.sum(dZ2, axis=1, keepdims=True) # (n_y,1)\n",
        "\n",
        "  # dA1 = np.dot(W2.T,dZ2)   # n_h,n_y . n_y,m => n_h,m \n",
        "  # assert(dA1.shape == (n_h,m))\n",
        "  # dZ1 = dA1 * (1- np.power(A1, 2))\n",
        "  # assert(dZ1.shape==(n_h,m))\n",
        "  # dW1 = (1/m) * np.dot(dZ1,X.T) # n_h,m  . m,n_x\n",
        "  # assert(dW1.shape==(n_h,n_x))\n",
        "\n",
        "  # db1 = (1/m) * np.sum(dZ1, axis=1, keepdims=True)  #(n_h,1)\n",
        "\n",
        "  grads = {}\n",
        "\n",
        "  for l in range(L-1,0,-1):\n",
        "    # print('on: ',l, \"th layer\")\n",
        "    if l==L-1: \n",
        "      # print(l,' sigmoid')\n",
        "      dZ_l = cache['A'+str(l)] - Y\n",
        "      dW_l = (1/m) * np.dot(dZ_l, cache['A'+str(l-1)].T)\n",
        "      db_l = (1/m) * np.sum(dZ_l, axis=1, keepdims=True) # (n_y,1)\n",
        "      grads['dZ'+str(l)] = dZ_l\n",
        "      grads['dW'+str(l)] = dW_l\n",
        "      grads['db'+str(l)] = db_l\n",
        "    else:\n",
        "      # print(l,' relu')\n",
        "      dA_l = np.dot(parameters['W'+str(l+1)].T,grads['dZ'+str(l+1)])\n",
        "      dZ_l = dA_l * (1- np.power(cache['A'+str(l)], 2))  ## ReLU Derivative Here ##\n",
        "      dW_l = (1/m) * np.dot(dZ_l,cache['A'+str(l-1)].T) # n_h,m  . m,n_x\n",
        "      db_l = (1/m) * np.sum(dZ_l, axis=1, keepdims=True)\n",
        "      grads['dA'+str(l)] = dA_l\n",
        "      grads['dZ'+str(l)] = dZ_l\n",
        "      grads['dW'+str(l)] = dW_l\n",
        "      grads['db'+str(l)] = db_l\n",
        "  \n",
        "  # print('grads:\\n', grads)\n",
        "#   # store gradients \n",
        "#   grads = {\"dW1\": dW1,\n",
        "#            \"db1\": db1,\n",
        "#            \"dW2\": dW2,\n",
        "#            \"db2\": db2}\n",
        "\n",
        "  # Gradient Descent\n",
        "  # W1 = W1 - learning_rate * dW1\n",
        "  # b1 = b1 - learning_rate * db1\n",
        "  # W2 = W2 - learning_rate * dW2\n",
        "  # b2 = b2 - learning_rate * db2\n",
        "\n",
        "  # lr = lr0 * (1. / (1. + decay_rate * num_iteration))\n",
        "  # lr = learning_rate+0.01 if num_iteration>7500 else learning_rate\n",
        "  lr = learning_rate\n",
        "  for l in range(1,L):\n",
        "    # print('updating for: ', l, \"th layer\")\n",
        "    parameters['W'+str(l)] = parameters['W'+str(l)] - lr * grads['dW'+str(l)]\n",
        "  if num_iteration%1000==0:\n",
        "    costs.append(cost)\n",
        "    print('Cost after {} iterations: {}'.format(num_iteration,cost))\n",
        "    # print(f\"Cost after {num_iteration} iterations: {cost}\")\n",
        "\n",
        "plt.plot(np.squeeze(costs))\n",
        "plt.ylabel('cost')\n",
        "plt.xlabel('iterations (per tens)')\n",
        "plt.title(\"Learning rate =\" + str(learning_rate))\n",
        "plt.show()\n",
        "# *************Model End Here************* #\n",
        "\n",
        "# Helpers \n",
        "def beautify(x):\n",
        "  return 1 if x > 0.5 else 0\n",
        "def predict(test_input):\n",
        "  # Forward Prop\n",
        "  # print('weights after Training:\\n', parameters['W'+str(L-1)])\n",
        "  cache = {}\n",
        "  for l in range(1,L): # 1->L-2  relu\n",
        "    W_l = parameters['W'+str(l)]\n",
        "    b_l = parameters['b'+str(l)]\n",
        "    A_prev = test_input if l==1 else cache['A'+str(l-1)]\n",
        "    # if l==1:\n",
        "    #   A_prev = X\n",
        "    # else:\n",
        "    #   A_prev = cache['A'+str(l-1)]\n",
        "\n",
        "    Z_l = np.dot(W_l, A_prev) + b_l \n",
        "\n",
        "    A_l = sigmoid(Z_l) if l==L-1 else relu(Z_l)\n",
        "    cache['Z'+str(l)] = Z_l\n",
        "    cache['A'+str(l)] = A_l \n",
        "  # print(cache['A'+str(L-1)])\n",
        "  result =  np.vectorize(beautify)(A_l)\n",
        "  print(result)\n",
        "  print(result.shape)\n",
        "\n"
      ],
      "execution_count": 181,
      "outputs": []
    },
    {
      "cell_type": "markdown",
      "metadata": {
        "id": "bJQ8DjAJWGi8"
      },
      "source": [
        "## Batch Gradient Descent Model"
      ]
    },
    {
      "cell_type": "code",
      "metadata": {
        "id": "H4DRRKv3V0Iu"
      },
      "source": [
        "def ff__nn(): # All the Parameters are Globally Declared  \n",
        "  for num_iteration in range(num_iterations):\n",
        "    \n",
        "    # Forward Prop\n",
        "    # Z1 = np.dot(W1, X) + b1  # X = A0  shape = n_h,n_x . n_x,m => (n_h,m)\n",
        "    # A1 = np.tanh(Z1)\n",
        "    # Z2 = np.dot(W2, A1) + b2\n",
        "    # A2 = sigmoid(Z2)\n",
        "    cache = {}\n",
        "    cache['A0'] = X\n",
        "\n",
        "    for l in range(1,L): # 1->L-2  relu\n",
        "      W_l = parameters['W'+str(l)]\n",
        "      b_l = parameters['b'+str(l)]\n",
        "      A_prev = X if l==1 else cache['A'+str(l-1)]\n",
        "      # if l==1:\n",
        "      #   A_prev = X\n",
        "      # else:\n",
        "      #   A_prev = cache['A'+str(l-1)]\n",
        "\n",
        "      Z_l = np.dot(W_l, A_prev) + b_l \n",
        "\n",
        "      # A_l = sigmoid(Z_l) if l==L-1 else relu(Z_l)\n",
        "      A_l = softmax(Z_l) if l==L-1 else relu(Z_l)\n",
        "\n",
        "\n",
        "      cache['Z'+str(l)] = Z_l\n",
        "      cache['A'+str(l)] = A_l \n",
        "    # # Using softmax on the last activation layer\n",
        "    # cache['A' + str(L-1)] = softmax(cache['A' + str(L-1)])\n",
        "    # Store these activations for later use\n",
        "    # cache = {\n",
        "    #     \"Z1\": Z1,\n",
        "    #     \"A1\": A1,\n",
        "    #     \"Z2\": Z2,\n",
        "    #     \"A2\": A2\n",
        "    # }\n",
        "    # print('cache:\\n',cache)\n",
        "    \n",
        "    # Compute Cost\n",
        "    # cost = (-1/m) * np.sum( np.multiply(Y, np.log( cache['A'+str(L-1)] )) + np.multiply(1 - Y, np.log(1 -  cache['A'+str(L-1)] )) )\n",
        "    cost = (-1/m) * np.sum( np.sum (np.multiply(Y, np.log( cache['A'+str(L-1)] ))) ) \n",
        "\n",
        "    # Using softmax on the last activation layer\n",
        "    # cache['A' + str(L-1)] = softmax(cache['A' + str(L-1)])\n",
        "\n",
        "    # Backward Prop \n",
        "    \n",
        "    # dZ2 = A2 - Y\n",
        "    # assert(dZ2.shape == (n_y,m))\n",
        "    # dW2 = (1/m) * np.dot(dZ2,A1.T)\n",
        "    # # n_y,m . m,n_h  => n_y,n_h\n",
        "\n",
        "    # db2 = (1/m) * np.sum(dZ2, axis=1, keepdims=True) # (n_y,1)\n",
        "\n",
        "    # dA1 = np.dot(W2.T,dZ2)   # n_h,n_y . n_y,m => n_h,m \n",
        "    # assert(dA1.shape == (n_h,m))\n",
        "    # dZ1 = dA1 * (1- np.power(A1, 2))\n",
        "    # assert(dZ1.shape==(n_h,m))\n",
        "    # dW1 = (1/m) * np.dot(dZ1,X.T) # n_h,m  . m,n_x\n",
        "    # assert(dW1.shape==(n_h,n_x))\n",
        "\n",
        "    # db1 = (1/m) * np.sum(dZ1, axis=1, keepdims=True)  #(n_h,1)\n",
        "\n",
        "    grads = {}\n",
        "\n",
        "    for l in range(L-1,0,-1):\n",
        "      # print('on: ',l, \"th layer\")\n",
        "      if l==L-1: \n",
        "        # print(l,' sigmoid')\n",
        "        dZ_l = cache['A'+str(l)] - Y\n",
        "        dW_l = (1/m) * np.dot(dZ_l, cache['A'+str(l-1)].T)\n",
        "        db_l = (1/m) * np.sum(dZ_l, axis=1, keepdims=True) # (n_y,1)\n",
        "        grads['dZ'+str(l)] = dZ_l\n",
        "        grads['dW'+str(l)] = dW_l\n",
        "        grads['db'+str(l)] = db_l\n",
        "      else:\n",
        "        # print(l,' relu')\n",
        "        dA_l = np.dot(parameters['W'+str(l+1)].T,grads['dZ'+str(l+1)])\n",
        "        dZ_l = dA_l * (1- np.power(cache['A'+str(l)], 2))  ## ReLU Derivative Here ##\n",
        "        dW_l = (1/m) * np.dot(dZ_l,cache['A'+str(l-1)].T) # n_h,m  . m,n_x\n",
        "        db_l = (1/m) * np.sum(dZ_l, axis=1, keepdims=True)\n",
        "        grads['dA'+str(l)] = dA_l\n",
        "        grads['dZ'+str(l)] = dZ_l\n",
        "        grads['dW'+str(l)] = dW_l\n",
        "        grads['db'+str(l)] = db_l\n",
        "    \n",
        "    # print('grads:\\n', grads)\n",
        "  #   # store gradients \n",
        "  #   grads = {\"dW1\": dW1,\n",
        "  #            \"db1\": db1,\n",
        "  #            \"dW2\": dW2,\n",
        "  #            \"db2\": db2}\n",
        "\n",
        "    # Gradient Descent\n",
        "    # W1 = W1 - learning_rate * dW1\n",
        "    # b1 = b1 - learning_rate * db1\n",
        "    # W2 = W2 - learning_rate * dW2\n",
        "    # b2 = b2 - learning_rate * db2\n",
        "\n",
        "    # lr = lr0 * (1. / (1. + decay_rate * num_iteration))\n",
        "    # lr = learning_rate+0.01 if num_iteration>7500 else learning_rate\n",
        "    lr = learning_rate\n",
        "    for l in range(1,L):\n",
        "      # print('updating for: ', l, \"th layer\")\n",
        "      parameters['W'+str(l)] = parameters['W'+str(l)] - lr * grads['dW'+str(l)]\n",
        "    if num_iteration%1000==0:\n",
        "      costs.append(cost)\n",
        "      print('Cost after {} iterations: {}'.format(num_iteration,cost))\n",
        "      # print(f\"Cost after {num_iteration} iterations: {cost}\")\n",
        "  # *************Model Ends Here************* #\n",
        "  \n"
      ],
      "execution_count": 182,
      "outputs": []
    },
    {
      "cell_type": "markdown",
      "metadata": {
        "id": "ob2OniysWTZY"
      },
      "source": [
        "## Helpers for computing prediction and Accuracy"
      ]
    },
    {
      "cell_type": "code",
      "metadata": {
        "id": "k3VHT8FLLl8X"
      },
      "source": [
        "\n",
        "def spit_result(x):\n",
        "  # x = x.T\n",
        "  res = []\n",
        "  for i in range(x.shape[0]):\n",
        "    res.append(np.argmax(x[i]))\n",
        "  return np.array(res)\n",
        "\n",
        "def compute_accuracy(x, y_test):\n",
        "  # print(f\"result.shape : {x.shape}\")\n",
        "  # print(f\"y_test.shape : {y_test.shape}\")\n",
        "  assert(x.shape==y_test.shape)\n",
        "  correct = 0\n",
        "  total = x.shape[0]\n",
        "  for i in range(x.shape[0]):\n",
        "    if x[i]==y_test[i]:\n",
        "      correct+=1\n",
        "  return correct*100/total\n",
        "\n",
        "def show_image_and_prediction(i, result):\n",
        "  plt.imshow(np.reshape(X_test[i],(8,8)))\n",
        "  plt.show()\n",
        "  print(f\"Model's prediction: {result[i]}\\n\")\n",
        "\n",
        "def beautify(x):\n",
        "  return 1 if x > 0.5 else 0\n",
        "\n",
        "def predict(test_input, show_eg=False):\n",
        "  # Forward Prop\n",
        "  # print('weights after Training:\\n', parameters['W'+str(L-1)])\n",
        "  cache = {}\n",
        "  for l in range(1,L): # 1->L-2  relu\n",
        "    W_l = parameters['W'+str(l)]\n",
        "    b_l = parameters['b'+str(l)]\n",
        "    A_prev = test_input if l==1 else cache['A'+str(l-1)]\n",
        "    # if l==1:\n",
        "    #   A_prev = X\n",
        "    # else:\n",
        "    #   A_prev = cache['A'+str(l-1)]\n",
        "\n",
        "    Z_l = np.dot(W_l, A_prev) + b_l \n",
        "\n",
        "    A_l = sigmoid(Z_l) if l==L-1 else relu(Z_l)\n",
        "    cache['Z'+str(l)] = Z_l\n",
        "    cache['A'+str(l)] = A_l \n",
        "  # print(cache['A'+str(L-1)])\n",
        "  result =  spit_result(A_l.T) # np.vectorize(beautify)(A_l)\n",
        "  # print(np.argmax(result.T))\n",
        "  # print(np.argmax(result.T[0]))\n",
        "  # print(result)\n",
        "  print(f\"\\n\\nAccuracy : {compute_accuracy(result,y_test)}% \\n\\n\")\n",
        "  if show_eg==True:\n",
        "    for idx in range(3): \n",
        "      show_image_and_prediction(idx, result)"
      ],
      "execution_count": 183,
      "outputs": []
    },
    {
      "cell_type": "code",
      "metadata": {
        "colab": {
          "base_uri": "https://localhost:8080/",
          "height": 1000
        },
        "id": "YrQwzO1hLmsO",
        "outputId": "c8875726-fc13-4619-c621-5dafac4ad62b"
      },
      "source": [
        "# Running the Model (all parameters are global so nothing to pass)\n",
        "ff__nn()\n",
        "\n",
        "# test_input = np.array(\n",
        "#     [[1,1,1],\n",
        "#      [1,0,0],\n",
        "#      [0,0,1],\n",
        "#      [0,0,0],\n",
        "#      [0,1,0],\n",
        "#      [0,5,6],\n",
        "#      [1,2,2],\n",
        "#      [1,3,1]\n",
        "#      ])\n",
        "\n",
        "test_input = X_test.T\n",
        "predict(test_input, True)\n",
        "# print(y_test.T)\n",
        "# print(y_test.shape)\n",
        "\n",
        "# print(X_train.shape)\n",
        "\n",
        "plt.plot(np.squeeze(costs))\n",
        "plt.ylabel('cost')\n",
        "plt.xlabel('iterations (per thousands)')\n",
        "plt.title(\"Learning rate =\" + str(learning_rate))\n",
        "plt.show()\n"
      ],
      "execution_count": 184,
      "outputs": [
        {
          "output_type": "stream",
          "name": "stdout",
          "text": [
            "Cost after 0 iterations: 2.302583993811122\n",
            "Cost after 1000 iterations: 0.9768952428940243\n",
            "Cost after 2000 iterations: 0.6856083847610951\n",
            "Cost after 3000 iterations: 0.5658476279641044\n",
            "Cost after 4000 iterations: 0.38881407911564086\n",
            "Cost after 5000 iterations: 0.40411156584488267\n",
            "Cost after 6000 iterations: 0.3808207361711113\n",
            "Cost after 7000 iterations: 0.28785202736080406\n",
            "Cost after 8000 iterations: 0.29290665254669274\n",
            "Cost after 9000 iterations: 0.27418329388789686\n",
            "Cost after 10000 iterations: 0.2702535851748385\n",
            "Cost after 11000 iterations: 0.26868197351813444\n",
            "Cost after 12000 iterations: 0.2699657542334309\n",
            "Cost after 13000 iterations: 0.31571470298634685\n",
            "Cost after 14000 iterations: 0.2714269927597798\n",
            "Cost after 15000 iterations: 0.27486013144786925\n",
            "Cost after 16000 iterations: 0.2685733045838071\n",
            "Cost after 17000 iterations: 0.2676279465411055\n",
            "Cost after 18000 iterations: 0.27268831158370443\n",
            "Cost after 19000 iterations: 0.2684680216125822\n",
            "\n",
            "\n",
            "Accuracy : 83.33333333333333% \n",
            "\n",
            "\n"
          ]
        },
        {
          "output_type": "display_data",
          "data": {
            "image/png": "[encoded data removed]",
            "text/plain": [
              "<Figure size 432x288 with 1 Axes>"
            ]
          },
          "metadata": {
            "needs_background": "light"
          }
        },
        {
          "output_type": "stream",
          "name": "stdout",
          "text": [
            "Model's prediction: 6\n",
            "\n"
          ]
        },
        {
          "output_type": "display_data",
          "data": {
            "image/png": "[encoded data removed]",
            "text/plain": [
              "<Figure size 432x288 with 1 Axes>"
            ]
          },
          "metadata": {
            "needs_background": "light"
          }
        },
        {
          "output_type": "stream",
          "name": "stdout",
          "text": [
            "Model's prediction: 9\n",
            "\n"
          ]
        },
        {
          "output_type": "display_data",
          "data": {
            "image/png": "[encoded data removed]",
            "text/plain": [
              "<Figure size 432x288 with 1 Axes>"
            ]
          },
          "metadata": {
            "needs_background": "light"
          }
        },
        {
          "output_type": "stream",
          "name": "stdout",
          "text": [
            "Model's prediction: 3\n",
            "\n"
          ]
        },
        {
          "output_type": "display_data",
          "data": {
            "image/png": "[encoded data removed]",
            "text/plain": [
              "<Figure size 432x288 with 1 Axes>"
            ]
          },
          "metadata": {
            "needs_background": "light"
          }
        }
      ]
    },
    {
      "cell_type": "markdown",
      "metadata": {
        "id": "1BJi-SxDlKk5"
      },
      "source": [
        "### Tuning learning_rate"
      ]
    },
    {
      "cell_type": "code",
      "metadata": {
        "colab": {
          "base_uri": "https://localhost:8080/",
          "height": 607
        },
        "id": "rMyZBxgeXKtE",
        "outputId": "cb21f112-c488-4fc1-e673-ce971dfa4faa"
      },
      "source": [
        "# training_inputs = np.array(\n",
        "#     [[1,1,0],\n",
        "#      [1,0,1],\n",
        "#      [0,1,1],\n",
        "#      [0,1,0]])\n",
        "\n",
        "\n",
        "# training_inputs = training_inputs.T\n",
        "training_inputs  = X_train.T\n",
        "\n",
        "print(training_inputs.shape)\n",
        "# training_outputs = np.array([[0,0,1,1],[1,1,0,0],[0,0,0,0]])\n",
        "training_outputs = onehot_encoded.T\n",
        "\n",
        "print(training_outputs.shape)\n",
        "\n",
        "# Training input shape = (n_x, m) n_x=3 , m=4   => (3,4)\n",
        "# Training outputs shape = (n_y, m)    \n",
        "\n",
        "# DEFINING PARAMTERS weights and bais and n_x, n_h, n_y\n",
        "\n",
        "X = training_inputs\n",
        "Y = training_outputs\n",
        "\n",
        "n_x, n_y = X.shape[0], Y.shape[0]   \n",
        "m = X.shape[1]\n",
        "\n",
        "layer_dims = [n_x, 5, 4, n_y]\n",
        "L = len(layer_dims) # It does not represents L as its value is L+1 where L is L- deep nn\n",
        "print('L: ',L)\n",
        "# n_h = L-1\n",
        "\n",
        "# Hyperparameters for Learning Decay \n",
        "learning_rate = 0.155 \n",
        "lr0 = 1\n",
        "decay_rate = 1\n",
        "\n",
        "num_iterations = 10000\n",
        "\n",
        "# weights matrix \n",
        "# shape (n_h, n_x)\n",
        "# W1 = np.random.rand(n_h, n_x) * 0.01\n",
        "# b1 = np.zeros(shape=(n_h, 1)) \n",
        "# W2 = np.random.rand(n_y, n_h) * 0.01\n",
        "# b2 = np.zeros(shape=(n_y, 1)) \n",
        "\n",
        "parameters = {}\n",
        "\n",
        "for l in range(1,L):\n",
        "  parameters[\"W\"+str(l)] = np.random.randn(layer_dims[l], layer_dims[l-1]) * 0.01\n",
        "  parameters[\"b\"+str(l)] = np.zeros(shape=(layer_dims[l],1))\n",
        "\n",
        "# print('parameters:\\n',parameters)\n",
        "\n",
        "costs = [] # We will use this List to plot cost fn\n",
        "\n",
        "ff__nn()\n",
        "\n",
        "predict(X_test.T)\n",
        "\n",
        "plt.plot(np.squeeze(costs))\n",
        "plt.ylabel('cost')\n",
        "plt.xlabel('iterations (per thousands)')\n",
        "plt.title(\"Learning rate =\" + str(learning_rate))\n",
        "plt.show()\n",
        "\n"
      ],
      "execution_count": 186,
      "outputs": [
        {
          "output_type": "stream",
          "name": "stdout",
          "text": [
            "(64, 1203)\n",
            "(10, 1203)\n",
            "L:  4\n",
            "Cost after 0 iterations: 2.3025787463483374\n",
            "Cost after 1000 iterations: 0.6248490627929091\n",
            "Cost after 2000 iterations: 0.4232110426805798\n",
            "Cost after 3000 iterations: 0.2817772861487821\n",
            "Cost after 4000 iterations: 0.13959842191026242\n",
            "Cost after 5000 iterations: 0.12235909253582188\n",
            "Cost after 6000 iterations: 0.11887291027581952\n",
            "Cost after 7000 iterations: 0.11490151982894883\n",
            "Cost after 8000 iterations: 0.1093498074548812\n",
            "Cost after 9000 iterations: 0.10910046545307742\n",
            "\n",
            "\n",
            "Accuracy : 91.24579124579125% \n",
            "\n",
            "\n"
          ]
        },
        {
          "output_type": "display_data",
          "data": {
            "image/png": "[encoded data removed]",
            "text/plain": [
              "<Figure size 432x288 with 1 Axes>"
            ]
          },
          "metadata": {
            "needs_background": "light"
          }
        }
      ]
    },
    {
      "cell_type": "markdown",
      "metadata": {
        "id": "5SWSe6fvqyXx"
      },
      "source": [
        "### From 83% accuracy to 91.2%, just by changing num_iterations and a minute 0.05 change in learning_rate, so earlier our model was overfitting and that's why not being able to generalize properly. "
      ]
    },
    {
      "cell_type": "code",
      "metadata": {
        "id": "bqkKlisLlIFD"
      },
      "source": [
        ""
      ],
      "execution_count": null,
      "outputs": []
    }
  ]
}